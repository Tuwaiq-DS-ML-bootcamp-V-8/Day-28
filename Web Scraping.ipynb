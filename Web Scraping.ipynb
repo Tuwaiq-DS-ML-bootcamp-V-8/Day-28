{
 "cells": [
  {
   "cell_type": "markdown",
   "id": "worst-sally",
   "metadata": {},
   "source": [
    "### Web scrapping for [Sayarh Website](https://syarah.com)"
   ]
  },
  {
   "cell_type": "code",
   "execution_count": 1,
   "id": "complimentary-harvard",
   "metadata": {},
   "outputs": [],
   "source": [
    "import requests\n",
    "from bs4 import BeautifulSoup\n",
    "from selenium import webdriver  \n",
    "import pandas as pd"
   ]
  },
  {
   "cell_type": "markdown",
   "id": "338604af-c89b-4c3f-92f2-85dec04c0f78",
   "metadata": {},
   "source": [
    "#### Use only BeautifulSoup"
   ]
  },
  {
   "cell_type": "code",
   "execution_count": 2,
   "id": "yellow-matter",
   "metadata": {},
   "outputs": [
    {
     "name": "stdout",
     "output_type": "stream",
     "text": [
      "200\n"
     ]
    }
   ],
   "source": [
    "url = 'https://syarah.com/filters?condition_id=0'\n",
    "page = requests.get(url)\n",
    "print(page.status_code)"
   ]
  },
  {
   "cell_type": "code",
   "execution_count": 6,
   "id": "b30421a2-2400-454c-bf79-759f878c07ac",
   "metadata": {},
   "outputs": [
    {
     "name": "stdout",
     "output_type": "stream",
     "text": [
      "<class 'str'>\n"
     ]
    }
   ],
   "source": [
    "print(type(page.text))\n",
    "#print(page.text)"
   ]
  },
  {
   "cell_type": "code",
   "execution_count": 7,
   "id": "d12f7158-d37d-4c17-8a32-ef0148eed24a",
   "metadata": {},
   "outputs": [
    {
     "name": "stdout",
     "output_type": "stream",
     "text": [
      "<class 'bs4.BeautifulSoup'>\n"
     ]
    }
   ],
   "source": [
    "soup = BeautifulSoup(page.content, 'html.parser')\n",
    "print(type(soup))\n",
    "#soup"
   ]
  },
  {
   "cell_type": "code",
   "execution_count": 9,
   "id": "1019975e-61d6-4959-bb43-0c15ca0ecede",
   "metadata": {},
   "outputs": [],
   "source": [
    "#soup"
   ]
  },
  {
   "cell_type": "code",
   "execution_count": 14,
   "id": "7e8cfded-9678-44f7-bed2-67746b5d069b",
   "metadata": {},
   "outputs": [
    {
     "data": {
      "text/plain": [
       "'سيارات مستعملة للبيع في السعودية - سيارات جديدة: أفضل سعر | موقع سيارة '"
      ]
     },
     "execution_count": 14,
     "metadata": {},
     "output_type": "execute_result"
    }
   ],
   "source": [
    "page_title = soup.title.text # gets you the text of the <title>(...)</title>\n",
    "page_title"
   ]
  },
  {
   "cell_type": "code",
   "execution_count": 18,
   "id": "e05a9913-69f2-4ca1-ae3f-c8d8251986f9",
   "metadata": {},
   "outputs": [],
   "source": [
    "# Extract body of page\n",
    "page_body = soup.body\n",
    "#page_body "
   ]
  },
  {
   "cell_type": "code",
   "execution_count": 16,
   "id": "dc290c64-f0c4-4359-88af-3986b8247718",
   "metadata": {},
   "outputs": [
    {
     "ename": "SyntaxError",
     "evalue": "invalid decimal literal (1298192748.py, line 3)",
     "output_type": "error",
     "traceback": [
      "\u001b[0;36m  Cell \u001b[0;32mIn[16], line 3\u001b[0;36m\u001b[0m\n\u001b[0;31m    <img src=\"https://cdn-frontend-r2.syarah.com/prod/assets/images/garnteed.svg\" width=\"10\" height=\"10\" alt=\"garnteed\" aria-label=\"garnteed\"><strong>مفحوصة ومضمونة</strong></div><h2 class=\"CardBody-module__title interActiveGray\">ميتسوبيشي L200 DC 4x2 2020 </h2><div class=\"CardBody-module__finance\"><div class=\"CardBody-module__monthlyPrice\"><strong class=\"interActiveBlue\">1,217</strong><span class=\"interActiveBlue\">ريال / شهرياً</span></div><div class=\"CardBody-module__totalPrice\"><span class=\"CardBody-module__vatIncluded interActiveGray\">شامل الضريبة</span><div class=\"CardBody-module__sellingPrice\"><strong class=\"interActiveGreen\">57,000</strong><span class=\"interActiveGreen\">ريال</span></div></div></div></div>\u001b[0m\n\u001b[0m                                                                                                                                                                                                                                                        ^\u001b[0m\n\u001b[0;31mSyntaxError\u001b[0m\u001b[0;31m:\u001b[0m invalid decimal literal\n"
     ]
    }
   ],
   "source": [
    "<div class=\"CardBody-module__CardBody\">\n",
    "<div class=\"CardBody-module__guaranteedLabel\">\n",
    "<img src=\"https://cdn-frontend-r2.syarah.com/prod/assets/images/garnteed.svg\" width=\"10\" height=\"10\" alt=\"garnteed\" aria-label=\"garnteed\">\n",
    "<strong>مفحوصة ومضمونة</strong>\n",
    "</div>\n",
    "<h2 class=\"CardBody-module__title interActiveGray\">ميتسوبيشي L200 DC 4x2 2020 </h2>\n",
    "<div class=\"CardBody-module__finance\"><div class=\"CardBody-module__monthlyPrice\"><strong class=\"interActiveBlue\">1,217</strong><span class=\"interActiveBlue\">ريال / شهرياً</span></div><div class=\"CardBody-module__totalPrice\"><span class=\"CardBody-module__vatIncluded interActiveGray\">شامل الضريبة</span><div class=\"CardBody-module__sellingPrice\"><strong class=\"interActiveGreen\">57,000</strong><span class=\"interActiveGreen\">ريال</span></div></div></div></div>"
   ]
  },
  {
   "cell_type": "code",
   "execution_count": 19,
   "id": "3be1c7dc-27c0-4f8a-a7d9-734295e018ca",
   "metadata": {},
   "outputs": [
    {
     "data": {
      "text/plain": [
       "[]"
      ]
     },
     "execution_count": 19,
     "metadata": {},
     "output_type": "execute_result"
    }
   ],
   "source": [
    "# extract car names\n",
    "divs = soup.find_all('h2', {'class':\"CardBody-module__title interActiveGray\"})\n",
    "divs"
   ]
  },
  {
   "cell_type": "markdown",
   "id": "c2880a8e-5578-463a-89f9-6134f1c1022e",
   "metadata": {},
   "source": [
    "#### Try selenium"
   ]
  },
  {
   "cell_type": "code",
   "execution_count": 21,
   "id": "7ac040e6-bc27-44f3-ba01-ee4e0c63bdc9",
   "metadata": {},
   "outputs": [],
   "source": [
    "driver = webdriver.Chrome()\n",
    "# request the page \n",
    "driver.get(url)\n",
    "\n",
    "        # extract the body and parse it\n",
    "soup = BeautifulSoup(driver.page_source, \"html.parser\")\n",
    "driver.quit()"
   ]
  },
  {
   "cell_type": "code",
   "execution_count": 24,
   "id": "a7f5ca71-250f-4f09-8380-26420303cafb",
   "metadata": {},
   "outputs": [
    {
     "data": {
      "text/plain": [
       "'ميتسوبيشي L200 DC 4x2 2020 '"
      ]
     },
     "execution_count": 24,
     "metadata": {},
     "output_type": "execute_result"
    }
   ],
   "source": [
    "divs = soup.find_all('h2', {'class':\"CardBody-module__title interActiveGray\"})\n",
    "divs"
   ]
  },
  {
   "cell_type": "code",
   "execution_count": 26,
   "id": "6e8d94c1-0c0a-4d28-a89a-25f9f2e1c330",
   "metadata": {},
   "outputs": [],
   "source": [
    "# try 10 pages\n",
    "\n",
    "driver = webdriver.Chrome()\n",
    "url = 'https://syarah.com/filters?condition_id=0'\n",
    "columns_ = ['Names', 'Prices']\n",
    "df = pd.DataFrame(columns=columns_)\n",
    "                  \n",
    "for i in range(2, 6):\n",
    "\n",
    "    # request the page \n",
    "    driver.get(url)\n",
    "\n",
    "    # extract the body and parse it\n",
    "    soup = BeautifulSoup(driver.page_source, \"html.parser\")\n",
    "\n",
    "    # extrace prices and ars names from page\n",
    "    prices = soup.find_all('strong', {'class':\"interActiveGreen\"})\n",
    "    names = soup.find_all('h2', {'class':\"CardBody-module__title interActiveGray\"})\n",
    "\n",
    "    # clean them\n",
    "    clean_prices = []\n",
    "    clean_names = []\n",
    "    for p, n, in zip(prices, names):\n",
    "        clean_prices.append(p.text)\n",
    "        clean_names.append(n.text)\n",
    "\n",
    "    # store them \n",
    "    new_rows_df = pd.DataFrame(\n",
    "        {\n",
    "            'Names': clean_names, \n",
    "            'Prices': clean_prices\n",
    "        })\n",
    "\n",
    "    df = pd.concat([df, new_rows_df], ignore_index=True)\n",
    "\n",
    "    # prepare new link\n",
    "    url = f\"https://syarah.com/filters?condition_id=0&page={i}\"\n",
    "driver.quit()"
   ]
  },
  {
   "cell_type": "code",
   "execution_count": 27,
   "id": "44012f2f-d981-4de6-855a-ac3f91eb5faa",
   "metadata": {},
   "outputs": [
    {
     "data": {
      "text/html": [
       "<div>\n",
       "<style scoped>\n",
       "    .dataframe tbody tr th:only-of-type {\n",
       "        vertical-align: middle;\n",
       "    }\n",
       "\n",
       "    .dataframe tbody tr th {\n",
       "        vertical-align: top;\n",
       "    }\n",
       "\n",
       "    .dataframe thead th {\n",
       "        text-align: right;\n",
       "    }\n",
       "</style>\n",
       "<table border=\"1\" class=\"dataframe\">\n",
       "  <thead>\n",
       "    <tr style=\"text-align: right;\">\n",
       "      <th></th>\n",
       "      <th>Names</th>\n",
       "      <th>Prices</th>\n",
       "    </tr>\n",
       "  </thead>\n",
       "  <tbody>\n",
       "    <tr>\n",
       "      <th>0</th>\n",
       "      <td>ميتسوبيشي L200 DC 4x2 2020</td>\n",
       "      <td>57,000</td>\n",
       "    </tr>\n",
       "    <tr>\n",
       "      <th>1</th>\n",
       "      <td>نيسان ددسن GL 2016</td>\n",
       "      <td>38,400</td>\n",
       "    </tr>\n",
       "    <tr>\n",
       "      <th>2</th>\n",
       "      <td>فولكس فاجن تي روك ستايل 2021</td>\n",
       "      <td>69,400</td>\n",
       "    </tr>\n",
       "    <tr>\n",
       "      <th>3</th>\n",
       "      <td>ام جي HS DEL 2021 دبل</td>\n",
       "      <td>65,000</td>\n",
       "    </tr>\n",
       "    <tr>\n",
       "      <th>4</th>\n",
       "      <td>هيونداي ستاريا Van 2022</td>\n",
       "      <td>80,500</td>\n",
       "    </tr>\n",
       "    <tr>\n",
       "      <th>5</th>\n",
       "      <td>فورد اسكايب  2019</td>\n",
       "      <td>57,100</td>\n",
       "    </tr>\n",
       "    <tr>\n",
       "      <th>6</th>\n",
       "      <td>نيسان التيما S 2022</td>\n",
       "      <td>74,500</td>\n",
       "    </tr>\n",
       "    <tr>\n",
       "      <th>7</th>\n",
       "      <td>نيسان سنترا S 2020</td>\n",
       "      <td>44,000</td>\n",
       "    </tr>\n",
       "    <tr>\n",
       "      <th>8</th>\n",
       "      <td>فاو بيستون تي 77  2021</td>\n",
       "      <td>55,000</td>\n",
       "    </tr>\n",
       "    <tr>\n",
       "      <th>9</th>\n",
       "      <td>فورد F150 XL 2018</td>\n",
       "      <td>48,000</td>\n",
       "    </tr>\n",
       "    <tr>\n",
       "      <th>10</th>\n",
       "      <td>شفروليه كابتيفا LS 2022</td>\n",
       "      <td>59,000</td>\n",
       "    </tr>\n",
       "    <tr>\n",
       "      <th>11</th>\n",
       "      <td>شفروليه تاهو LS 2019 دبل</td>\n",
       "      <td>139,500</td>\n",
       "    </tr>\n",
       "    <tr>\n",
       "      <th>12</th>\n",
       "      <td>كيا سبورتاج LX 2020 دبل</td>\n",
       "      <td>62,500</td>\n",
       "    </tr>\n",
       "    <tr>\n",
       "      <th>13</th>\n",
       "      <td>كيا سورينتو LX 2020 Double</td>\n",
       "      <td>64,200</td>\n",
       "    </tr>\n",
       "    <tr>\n",
       "      <th>14</th>\n",
       "      <td>هيونداي توسان Base 2017</td>\n",
       "      <td>64,500</td>\n",
       "    </tr>\n",
       "    <tr>\n",
       "      <th>15</th>\n",
       "      <td>ام جي ZS STD 2020</td>\n",
       "      <td>47,500</td>\n",
       "    </tr>\n",
       "    <tr>\n",
       "      <th>16</th>\n",
       "      <td>رينو داستر PE 2016</td>\n",
       "      <td>27,200</td>\n",
       "    </tr>\n",
       "    <tr>\n",
       "      <th>17</th>\n",
       "      <td>هيونداي اكسنت Smart 2022</td>\n",
       "      <td>50,000</td>\n",
       "    </tr>\n",
       "    <tr>\n",
       "      <th>18</th>\n",
       "      <td>ميتسوبيشي L200 DC 4x2 2020</td>\n",
       "      <td>53,000</td>\n",
       "    </tr>\n",
       "    <tr>\n",
       "      <th>19</th>\n",
       "      <td>تويوتا يارس Y 2019</td>\n",
       "      <td>45,500</td>\n",
       "    </tr>\n",
       "    <tr>\n",
       "      <th>20</th>\n",
       "      <td>تويوتا يارس Y 2020</td>\n",
       "      <td>45,500</td>\n",
       "    </tr>\n",
       "    <tr>\n",
       "      <th>21</th>\n",
       "      <td>شانجان ايدو بلس Smart 2022</td>\n",
       "      <td>41,000</td>\n",
       "    </tr>\n",
       "    <tr>\n",
       "      <th>22</th>\n",
       "      <td>ميتسوبيشي L200 DC 4x2 2020</td>\n",
       "      <td>55,000</td>\n",
       "    </tr>\n",
       "    <tr>\n",
       "      <th>23</th>\n",
       "      <td>ام جي 5 LUX 2022</td>\n",
       "      <td>39,000</td>\n",
       "    </tr>\n",
       "  </tbody>\n",
       "</table>\n",
       "</div>"
      ],
      "text/plain": [
       "                            Names   Prices\n",
       "0     ميتسوبيشي L200 DC 4x2 2020    57,000\n",
       "1             نيسان ددسن GL 2016    38,400\n",
       "2   فولكس فاجن تي روك ستايل 2021    69,400\n",
       "3           ام جي HS DEL 2021 دبل   65,000\n",
       "4        هيونداي ستاريا Van 2022    80,500\n",
       "5              فورد اسكايب  2019    57,100\n",
       "6            نيسان التيما S 2022    74,500\n",
       "7             نيسان سنترا S 2020    44,000\n",
       "8         فاو بيستون تي 77  2021    55,000\n",
       "9              فورد F150 XL 2018    48,000\n",
       "10       شفروليه كابتيفا LS 2022    59,000\n",
       "11       شفروليه تاهو LS 2019 دبل  139,500\n",
       "12        كيا سبورتاج LX 2020 دبل   62,500\n",
       "13     كيا سورينتو LX 2020 Double   64,200\n",
       "14       هيونداي توسان Base 2017    64,500\n",
       "15             ام جي ZS STD 2020    47,500\n",
       "16            رينو داستر PE 2016    27,200\n",
       "17      هيونداي اكسنت Smart 2022    50,000\n",
       "18    ميتسوبيشي L200 DC 4x2 2020    53,000\n",
       "19            تويوتا يارس Y 2019    45,500\n",
       "20            تويوتا يارس Y 2020    45,500\n",
       "21    شانجان ايدو بلس Smart 2022    41,000\n",
       "22    ميتسوبيشي L200 DC 4x2 2020    55,000\n",
       "23              ام جي 5 LUX 2022    39,000"
      ]
     },
     "execution_count": 27,
     "metadata": {},
     "output_type": "execute_result"
    }
   ],
   "source": [
    "df"
   ]
  }
 ],
 "metadata": {
  "kernelspec": {
   "display_name": "DP",
   "language": "python",
   "name": "dp"
  },
  "language_info": {
   "codemirror_mode": {
    "name": "ipython",
    "version": 3
   },
   "file_extension": ".py",
   "mimetype": "text/x-python",
   "name": "python",
   "nbconvert_exporter": "python",
   "pygments_lexer": "ipython3",
   "version": "3.11.7"
  }
 },
 "nbformat": 4,
 "nbformat_minor": 5
}
